{
  "cells": [
    {
      "cell_type": "code",
      "execution_count": 1,
      "metadata": {
        "colab": {
          "base_uri": "https://localhost:8080/"
        },
        "id": "JMvHhnT8_pb1",
        "outputId": "38bb208b-0151-436b-844b-7f69c3f414ca"
      },
      "outputs": [
        {
          "name": "stdout",
          "output_type": "stream",
          "text": [
            "Mounted at /content/drive/\n"
          ]
        }
      ],
      "source": [
        "from google.colab import drive\n",
        "drive.mount('/content/drive/')"
      ]
    },
    {
      "cell_type": "code",
      "execution_count": 3,
      "metadata": {
        "id": "ibqBgqcr8qp3",
        "nbgrader": {
          "grade": false,
          "locked": true,
          "solution": false
        }
      },
      "outputs": [],
      "source": [
        "import numpy as np\n",
        "import matplotlib.pyplot as plt\n",
        "import pandas as pd\n",
        "import librosa\n",
        "import matplotlib.pyplot as plt\n",
        "%matplotlib inline"
      ]
    },
    {
      "cell_type": "code",
      "execution_count": 4,
      "metadata": {
        "id": "0uNKAvRvBaBg"
      },
      "outputs": [
        {
          "data": {
            "text/plain": [
              "'\\nDATA_PATH = \"/content/drive/Shareddrives/DL_Project/Data\"\\nIMAGES_PATH = \"/content/drive/Shareddrives/DL_Project/Data/images_original\"\\nCROPPED_PATH = \"/content/drive/Shareddrives/DL_Project/Data/images_cropped\"\\nAUDIO_PATH = \"/content/drive/Shareddrives/DL_Project/Data/genres_original\"\\nCREATED_PATH = \"/content/drive/Shareddrives/DL_Project/Data/created_images\"\\n'"
            ]
          },
          "execution_count": 4,
          "metadata": {},
          "output_type": "execute_result"
        }
      ],
      "source": [
        "'''\n",
        "DATA_PATH = \"/content/drive/Shareddrives/DL_Project/Data\"\n",
        "IMAGES_PATH = \"/content/drive/Shareddrives/DL_Project/Data/images_original\"\n",
        "CROPPED_PATH = \"/content/drive/Shareddrives/DL_Project/Data/images_cropped\"\n",
        "AUDIO_PATH = \"/content/drive/Shareddrives/DL_Project/Data/genres_original\"\n",
        "CREATED_PATH = \"/content/drive/Shareddrives/DL_Project/Data/created_images\"\n",
        "'''"
      ]
    },
    {
      "cell_type": "markdown",
      "metadata": {},
      "source": [
        "## My local path"
      ]
    },
    {
      "cell_type": "code",
      "execution_count": 5,
      "metadata": {},
      "outputs": [],
      "source": [
        "DATA_PATH = \"./Data\"\n",
        "IMAGES_PATH = \"./Data/images_original\""
      ]
    },
    {
      "cell_type": "markdown",
      "metadata": {
        "id": "DVrK750r8qp4",
        "nbgrader": {
          "grade": false,
          "locked": true,
          "solution": false
        }
      },
      "source": [
        "### 1. Load and Prepare Data\n",
        "\n",
        "This should illustrate your code for loading the dataset and the split into training, validation and testing. You can add steps like pre-processing if needed."
      ]
    },
    {
      "cell_type": "code",
      "execution_count": 7,
      "metadata": {
        "id": "WB3iJ5Rl8qp4",
        "nbgrader": {
          "grade": false,
          "locked": true,
          "solution": false
        }
      },
      "outputs": [],
      "source": [
        "### YOUR CODE HERE\n",
        "df_three = pd.read_csv(f\"{DATA_PATH}/features_3_sec.csv\")\n",
        "df_thirty =  pd.read_csv(f\"{DATA_PATH}/features_30_sec.csv\")"
      ]
    },
    {
      "cell_type": "markdown",
      "metadata": {
        "id": "6K3nSyrZX3LL"
      },
      "source": [
        "https://librosa.org/doc/main/generated/librosa.feature.melspectrogram.html"
      ]
    },
    {
      "cell_type": "code",
      "execution_count": 8,
      "metadata": {
        "colab": {
          "base_uri": "https://localhost:8080/",
          "height": 183
        },
        "id": "k6_wzoOBUDgh",
        "outputId": "0dcf5cf8-ffc3-4c31-cfca-3d6a195365c5"
      },
      "outputs": [
        {
          "data": {
            "text/plain": [
              "'\\nimport os\\nimport librosa\\nimport librosa.display\\nimport matplotlib.pyplot as plt\\n\\n# Function to convert audio files to spectrograms\\ndef audio_to_spectrogram(input_folder, output_folder):\\n    # Create output folder if it doesn\\'t exist\\n    if not os.path.exists(output_folder):\\n        os.makedirs(output_folder)\\n\\n    # Iterate through each audio file in the input folder\\n    for audio_file in os.listdir(input_folder):\\n        # Check if the file is an audio file\\n        if audio_file.endswith(\".wav\"):\\n            # Load audio file\\n            audio_path = os.path.join(input_folder, audio_file)\\n            y, sr = librosa.load(audio_path)\\n\\n            # Generate spectrogram\\n            plt.figure(figsize=(10, 4))\\n            spectrogram = librosa.feature.melspectrogram(y=y, sr=sr)\\n            librosa.display.specshow(librosa.power_to_db(spectrogram, ref=np.max), y_axis=\\'mel\\', fmax=8000, x_axis=\\'time\\')\\n            plt.axis(\\'off\\')  # Turn off axis labels\\n            plt.gca().set_position([0, 0, 1, 1])  # Remove surrounding whitespace\\n            plt.subplots_adjust(left=0, right=1, top=1, bottom=0)\\n            plt.margins(0, 0)\\n            plt.gca().xaxis.set_major_locator(plt.NullLocator())\\n            plt.gca().yaxis.set_major_locator(plt.NullLocator())\\n\\n            # Save spectrogram\\n            spectrogram_path = os.path.join(output_folder, os.path.splitext(audio_file)[0] + \\'.png\\')\\n            plt.savefig(spectrogram_path)\\n            plt.close()\\n\\n            print(f\"Spectrogram saved: {spectrogram_path}\")\\n\\n# Paths to input and output folders\\ngenre_names = [\"hiphop\", \"metal\", \"reggae\", \"blues\", \"disco\", \"jazz\", \"pop\", \"classical\", \"rock\", \"country\"]\\n\\ninput_folders = [os.path.join(AUDIO_PATH, genre) for genre in genre_names]\\noutput_folders = [os.path.join(CREATED_PATH, genre) for genre in genre_names]\\n\\n\\n# Convert audio files to spectrograms for each pair of input and output folders\\nfor input_folder, output_folder in zip(input_folders, output_folders):\\n    audio_to_spectrogram(input_folder, output_folder)\\n    '"
            ]
          },
          "execution_count": 8,
          "metadata": {},
          "output_type": "execute_result"
        }
      ],
      "source": [
        "'''\n",
        "import os\n",
        "import librosa\n",
        "import librosa.display\n",
        "import matplotlib.pyplot as plt\n",
        "\n",
        "# Function to convert audio files to spectrograms\n",
        "def audio_to_spectrogram(input_folder, output_folder):\n",
        "    # Create output folder if it doesn't exist\n",
        "    if not os.path.exists(output_folder):\n",
        "        os.makedirs(output_folder)\n",
        "\n",
        "    # Iterate through each audio file in the input folder\n",
        "    for audio_file in os.listdir(input_folder):\n",
        "        # Check if the file is an audio file\n",
        "        if audio_file.endswith(\".wav\"):\n",
        "            # Load audio file\n",
        "            audio_path = os.path.join(input_folder, audio_file)\n",
        "            y, sr = librosa.load(audio_path)\n",
        "\n",
        "            # Generate spectrogram\n",
        "            plt.figure(figsize=(10, 4))\n",
        "            spectrogram = librosa.feature.melspectrogram(y=y, sr=sr)\n",
        "            librosa.display.specshow(librosa.power_to_db(spectrogram, ref=np.max), y_axis='mel', fmax=8000, x_axis='time')\n",
        "            plt.axis('off')  # Turn off axis labels\n",
        "            plt.gca().set_position([0, 0, 1, 1])  # Remove surrounding whitespace\n",
        "            plt.subplots_adjust(left=0, right=1, top=1, bottom=0)\n",
        "            plt.margins(0, 0)\n",
        "            plt.gca().xaxis.set_major_locator(plt.NullLocator())\n",
        "            plt.gca().yaxis.set_major_locator(plt.NullLocator())\n",
        "\n",
        "            # Save spectrogram\n",
        "            spectrogram_path = os.path.join(output_folder, os.path.splitext(audio_file)[0] + '.png')\n",
        "            plt.savefig(spectrogram_path)\n",
        "            plt.close()\n",
        "\n",
        "            print(f\"Spectrogram saved: {spectrogram_path}\")\n",
        "\n",
        "# Paths to input and output folders\n",
        "genre_names = [\"hiphop\", \"metal\", \"reggae\", \"blues\", \"disco\", \"jazz\", \"pop\", \"classical\", \"rock\", \"country\"]\n",
        "\n",
        "input_folders = [os.path.join(AUDIO_PATH, genre) for genre in genre_names]\n",
        "output_folders = [os.path.join(CREATED_PATH, genre) for genre in genre_names]\n",
        "\n",
        "\n",
        "# Convert audio files to spectrograms for each pair of input and output folders\n",
        "for input_folder, output_folder in zip(input_folders, output_folders):\n",
        "    audio_to_spectrogram(input_folder, output_folder)\n",
        "    '''"
      ]
    },
    {
      "cell_type": "markdown",
      "metadata": {
        "id": "voXeFGafP2Zn"
      },
      "source": [
        "### Three second audio clips"
      ]
    },
    {
      "cell_type": "code",
      "execution_count": 9,
      "metadata": {
        "colab": {
          "base_uri": "https://localhost:8080/",
          "height": 444
        },
        "id": "PE3o5QHPPx7_",
        "outputId": "75613a66-6aff-40ae-a063-336ec593f267"
      },
      "outputs": [
        {
          "data": {
            "text/html": [
              "<div>\n",
              "<style scoped>\n",
              "    .dataframe tbody tr th:only-of-type {\n",
              "        vertical-align: middle;\n",
              "    }\n",
              "\n",
              "    .dataframe tbody tr th {\n",
              "        vertical-align: top;\n",
              "    }\n",
              "\n",
              "    .dataframe thead th {\n",
              "        text-align: right;\n",
              "    }\n",
              "</style>\n",
              "<table border=\"1\" class=\"dataframe\">\n",
              "  <thead>\n",
              "    <tr style=\"text-align: right;\">\n",
              "      <th></th>\n",
              "      <th>filename</th>\n",
              "      <th>length</th>\n",
              "      <th>chroma_stft_mean</th>\n",
              "      <th>chroma_stft_var</th>\n",
              "      <th>rms_mean</th>\n",
              "      <th>rms_var</th>\n",
              "      <th>spectral_centroid_mean</th>\n",
              "      <th>spectral_centroid_var</th>\n",
              "      <th>spectral_bandwidth_mean</th>\n",
              "      <th>spectral_bandwidth_var</th>\n",
              "      <th>...</th>\n",
              "      <th>mfcc16_var</th>\n",
              "      <th>mfcc17_mean</th>\n",
              "      <th>mfcc17_var</th>\n",
              "      <th>mfcc18_mean</th>\n",
              "      <th>mfcc18_var</th>\n",
              "      <th>mfcc19_mean</th>\n",
              "      <th>mfcc19_var</th>\n",
              "      <th>mfcc20_mean</th>\n",
              "      <th>mfcc20_var</th>\n",
              "      <th>label</th>\n",
              "    </tr>\n",
              "  </thead>\n",
              "  <tbody>\n",
              "    <tr>\n",
              "      <th>0</th>\n",
              "      <td>blues.00000.0.wav</td>\n",
              "      <td>66149</td>\n",
              "      <td>0.335406</td>\n",
              "      <td>0.091048</td>\n",
              "      <td>0.130405</td>\n",
              "      <td>0.003521</td>\n",
              "      <td>1773.065032</td>\n",
              "      <td>167541.630869</td>\n",
              "      <td>1972.744388</td>\n",
              "      <td>117335.771563</td>\n",
              "      <td>...</td>\n",
              "      <td>39.687145</td>\n",
              "      <td>-3.241280</td>\n",
              "      <td>36.488243</td>\n",
              "      <td>0.722209</td>\n",
              "      <td>38.099152</td>\n",
              "      <td>-5.050335</td>\n",
              "      <td>33.618073</td>\n",
              "      <td>-0.243027</td>\n",
              "      <td>43.771767</td>\n",
              "      <td>blues</td>\n",
              "    </tr>\n",
              "    <tr>\n",
              "      <th>1</th>\n",
              "      <td>blues.00000.1.wav</td>\n",
              "      <td>66149</td>\n",
              "      <td>0.343065</td>\n",
              "      <td>0.086147</td>\n",
              "      <td>0.112699</td>\n",
              "      <td>0.001450</td>\n",
              "      <td>1816.693777</td>\n",
              "      <td>90525.690866</td>\n",
              "      <td>2010.051501</td>\n",
              "      <td>65671.875673</td>\n",
              "      <td>...</td>\n",
              "      <td>64.748276</td>\n",
              "      <td>-6.055294</td>\n",
              "      <td>40.677654</td>\n",
              "      <td>0.159015</td>\n",
              "      <td>51.264091</td>\n",
              "      <td>-2.837699</td>\n",
              "      <td>97.030830</td>\n",
              "      <td>5.784063</td>\n",
              "      <td>59.943081</td>\n",
              "      <td>blues</td>\n",
              "    </tr>\n",
              "    <tr>\n",
              "      <th>2</th>\n",
              "      <td>blues.00000.2.wav</td>\n",
              "      <td>66149</td>\n",
              "      <td>0.346815</td>\n",
              "      <td>0.092243</td>\n",
              "      <td>0.132003</td>\n",
              "      <td>0.004620</td>\n",
              "      <td>1788.539719</td>\n",
              "      <td>111407.437613</td>\n",
              "      <td>2084.565132</td>\n",
              "      <td>75124.921716</td>\n",
              "      <td>...</td>\n",
              "      <td>67.336563</td>\n",
              "      <td>-1.768610</td>\n",
              "      <td>28.348579</td>\n",
              "      <td>2.378768</td>\n",
              "      <td>45.717648</td>\n",
              "      <td>-1.938424</td>\n",
              "      <td>53.050835</td>\n",
              "      <td>2.517375</td>\n",
              "      <td>33.105122</td>\n",
              "      <td>blues</td>\n",
              "    </tr>\n",
              "    <tr>\n",
              "      <th>3</th>\n",
              "      <td>blues.00000.3.wav</td>\n",
              "      <td>66149</td>\n",
              "      <td>0.363639</td>\n",
              "      <td>0.086856</td>\n",
              "      <td>0.132565</td>\n",
              "      <td>0.002448</td>\n",
              "      <td>1655.289045</td>\n",
              "      <td>111952.284517</td>\n",
              "      <td>1960.039988</td>\n",
              "      <td>82913.639269</td>\n",
              "      <td>...</td>\n",
              "      <td>47.739452</td>\n",
              "      <td>-3.841155</td>\n",
              "      <td>28.337118</td>\n",
              "      <td>1.218588</td>\n",
              "      <td>34.770935</td>\n",
              "      <td>-3.580352</td>\n",
              "      <td>50.836224</td>\n",
              "      <td>3.630866</td>\n",
              "      <td>32.023678</td>\n",
              "      <td>blues</td>\n",
              "    </tr>\n",
              "    <tr>\n",
              "      <th>4</th>\n",
              "      <td>blues.00000.4.wav</td>\n",
              "      <td>66149</td>\n",
              "      <td>0.335579</td>\n",
              "      <td>0.088129</td>\n",
              "      <td>0.143289</td>\n",
              "      <td>0.001701</td>\n",
              "      <td>1630.656199</td>\n",
              "      <td>79667.267654</td>\n",
              "      <td>1948.503884</td>\n",
              "      <td>60204.020268</td>\n",
              "      <td>...</td>\n",
              "      <td>30.336359</td>\n",
              "      <td>0.664582</td>\n",
              "      <td>45.880913</td>\n",
              "      <td>1.689446</td>\n",
              "      <td>51.363583</td>\n",
              "      <td>-3.392489</td>\n",
              "      <td>26.738789</td>\n",
              "      <td>0.536961</td>\n",
              "      <td>29.146694</td>\n",
              "      <td>blues</td>\n",
              "    </tr>\n",
              "    <tr>\n",
              "      <th>...</th>\n",
              "      <td>...</td>\n",
              "      <td>...</td>\n",
              "      <td>...</td>\n",
              "      <td>...</td>\n",
              "      <td>...</td>\n",
              "      <td>...</td>\n",
              "      <td>...</td>\n",
              "      <td>...</td>\n",
              "      <td>...</td>\n",
              "      <td>...</td>\n",
              "      <td>...</td>\n",
              "      <td>...</td>\n",
              "      <td>...</td>\n",
              "      <td>...</td>\n",
              "      <td>...</td>\n",
              "      <td>...</td>\n",
              "      <td>...</td>\n",
              "      <td>...</td>\n",
              "      <td>...</td>\n",
              "      <td>...</td>\n",
              "      <td>...</td>\n",
              "    </tr>\n",
              "    <tr>\n",
              "      <th>9985</th>\n",
              "      <td>rock.00099.5.wav</td>\n",
              "      <td>66149</td>\n",
              "      <td>0.349126</td>\n",
              "      <td>0.080515</td>\n",
              "      <td>0.050019</td>\n",
              "      <td>0.000097</td>\n",
              "      <td>1499.083005</td>\n",
              "      <td>164266.886443</td>\n",
              "      <td>1718.707215</td>\n",
              "      <td>85931.574523</td>\n",
              "      <td>...</td>\n",
              "      <td>42.485981</td>\n",
              "      <td>-9.094270</td>\n",
              "      <td>38.326839</td>\n",
              "      <td>-4.246976</td>\n",
              "      <td>31.049839</td>\n",
              "      <td>-5.625813</td>\n",
              "      <td>48.804092</td>\n",
              "      <td>1.818823</td>\n",
              "      <td>38.966969</td>\n",
              "      <td>rock</td>\n",
              "    </tr>\n",
              "    <tr>\n",
              "      <th>9986</th>\n",
              "      <td>rock.00099.6.wav</td>\n",
              "      <td>66149</td>\n",
              "      <td>0.372564</td>\n",
              "      <td>0.082626</td>\n",
              "      <td>0.057897</td>\n",
              "      <td>0.000088</td>\n",
              "      <td>1847.965128</td>\n",
              "      <td>281054.935973</td>\n",
              "      <td>1906.468492</td>\n",
              "      <td>99727.037054</td>\n",
              "      <td>...</td>\n",
              "      <td>32.415203</td>\n",
              "      <td>-12.375726</td>\n",
              "      <td>66.418587</td>\n",
              "      <td>-3.081278</td>\n",
              "      <td>54.414265</td>\n",
              "      <td>-11.960546</td>\n",
              "      <td>63.452255</td>\n",
              "      <td>0.428857</td>\n",
              "      <td>18.697033</td>\n",
              "      <td>rock</td>\n",
              "    </tr>\n",
              "    <tr>\n",
              "      <th>9987</th>\n",
              "      <td>rock.00099.7.wav</td>\n",
              "      <td>66149</td>\n",
              "      <td>0.347481</td>\n",
              "      <td>0.089019</td>\n",
              "      <td>0.052403</td>\n",
              "      <td>0.000701</td>\n",
              "      <td>1346.157659</td>\n",
              "      <td>662956.246325</td>\n",
              "      <td>1561.859087</td>\n",
              "      <td>138762.841945</td>\n",
              "      <td>...</td>\n",
              "      <td>78.228149</td>\n",
              "      <td>-2.524483</td>\n",
              "      <td>21.778994</td>\n",
              "      <td>4.809936</td>\n",
              "      <td>25.980829</td>\n",
              "      <td>1.775686</td>\n",
              "      <td>48.582378</td>\n",
              "      <td>-0.299545</td>\n",
              "      <td>41.586990</td>\n",
              "      <td>rock</td>\n",
              "    </tr>\n",
              "    <tr>\n",
              "      <th>9988</th>\n",
              "      <td>rock.00099.8.wav</td>\n",
              "      <td>66149</td>\n",
              "      <td>0.387527</td>\n",
              "      <td>0.084815</td>\n",
              "      <td>0.066430</td>\n",
              "      <td>0.000320</td>\n",
              "      <td>2084.515327</td>\n",
              "      <td>203891.039161</td>\n",
              "      <td>2018.366254</td>\n",
              "      <td>22860.992562</td>\n",
              "      <td>...</td>\n",
              "      <td>28.323744</td>\n",
              "      <td>-5.363541</td>\n",
              "      <td>17.209942</td>\n",
              "      <td>6.462601</td>\n",
              "      <td>21.442928</td>\n",
              "      <td>2.354765</td>\n",
              "      <td>24.843613</td>\n",
              "      <td>0.675824</td>\n",
              "      <td>12.787750</td>\n",
              "      <td>rock</td>\n",
              "    </tr>\n",
              "    <tr>\n",
              "      <th>9989</th>\n",
              "      <td>rock.00099.9.wav</td>\n",
              "      <td>66149</td>\n",
              "      <td>0.369293</td>\n",
              "      <td>0.086759</td>\n",
              "      <td>0.050524</td>\n",
              "      <td>0.000067</td>\n",
              "      <td>1634.330126</td>\n",
              "      <td>411429.169769</td>\n",
              "      <td>1867.422378</td>\n",
              "      <td>119722.211518</td>\n",
              "      <td>...</td>\n",
              "      <td>38.801735</td>\n",
              "      <td>-11.598399</td>\n",
              "      <td>58.983097</td>\n",
              "      <td>-0.178517</td>\n",
              "      <td>55.761299</td>\n",
              "      <td>-6.903252</td>\n",
              "      <td>39.485901</td>\n",
              "      <td>-3.412534</td>\n",
              "      <td>31.727489</td>\n",
              "      <td>rock</td>\n",
              "    </tr>\n",
              "  </tbody>\n",
              "</table>\n",
              "<p>9990 rows × 60 columns</p>\n",
              "</div>"
            ],
            "text/plain": [
              "               filename  length  chroma_stft_mean  chroma_stft_var  rms_mean  \\\n",
              "0     blues.00000.0.wav   66149          0.335406         0.091048  0.130405   \n",
              "1     blues.00000.1.wav   66149          0.343065         0.086147  0.112699   \n",
              "2     blues.00000.2.wav   66149          0.346815         0.092243  0.132003   \n",
              "3     blues.00000.3.wav   66149          0.363639         0.086856  0.132565   \n",
              "4     blues.00000.4.wav   66149          0.335579         0.088129  0.143289   \n",
              "...                 ...     ...               ...              ...       ...   \n",
              "9985   rock.00099.5.wav   66149          0.349126         0.080515  0.050019   \n",
              "9986   rock.00099.6.wav   66149          0.372564         0.082626  0.057897   \n",
              "9987   rock.00099.7.wav   66149          0.347481         0.089019  0.052403   \n",
              "9988   rock.00099.8.wav   66149          0.387527         0.084815  0.066430   \n",
              "9989   rock.00099.9.wav   66149          0.369293         0.086759  0.050524   \n",
              "\n",
              "       rms_var  spectral_centroid_mean  spectral_centroid_var  \\\n",
              "0     0.003521             1773.065032          167541.630869   \n",
              "1     0.001450             1816.693777           90525.690866   \n",
              "2     0.004620             1788.539719          111407.437613   \n",
              "3     0.002448             1655.289045          111952.284517   \n",
              "4     0.001701             1630.656199           79667.267654   \n",
              "...        ...                     ...                    ...   \n",
              "9985  0.000097             1499.083005          164266.886443   \n",
              "9986  0.000088             1847.965128          281054.935973   \n",
              "9987  0.000701             1346.157659          662956.246325   \n",
              "9988  0.000320             2084.515327          203891.039161   \n",
              "9989  0.000067             1634.330126          411429.169769   \n",
              "\n",
              "      spectral_bandwidth_mean  spectral_bandwidth_var  ...  mfcc16_var  \\\n",
              "0                 1972.744388           117335.771563  ...   39.687145   \n",
              "1                 2010.051501            65671.875673  ...   64.748276   \n",
              "2                 2084.565132            75124.921716  ...   67.336563   \n",
              "3                 1960.039988            82913.639269  ...   47.739452   \n",
              "4                 1948.503884            60204.020268  ...   30.336359   \n",
              "...                       ...                     ...  ...         ...   \n",
              "9985              1718.707215            85931.574523  ...   42.485981   \n",
              "9986              1906.468492            99727.037054  ...   32.415203   \n",
              "9987              1561.859087           138762.841945  ...   78.228149   \n",
              "9988              2018.366254            22860.992562  ...   28.323744   \n",
              "9989              1867.422378           119722.211518  ...   38.801735   \n",
              "\n",
              "      mfcc17_mean  mfcc17_var  mfcc18_mean  mfcc18_var  mfcc19_mean  \\\n",
              "0       -3.241280   36.488243     0.722209   38.099152    -5.050335   \n",
              "1       -6.055294   40.677654     0.159015   51.264091    -2.837699   \n",
              "2       -1.768610   28.348579     2.378768   45.717648    -1.938424   \n",
              "3       -3.841155   28.337118     1.218588   34.770935    -3.580352   \n",
              "4        0.664582   45.880913     1.689446   51.363583    -3.392489   \n",
              "...           ...         ...          ...         ...          ...   \n",
              "9985    -9.094270   38.326839    -4.246976   31.049839    -5.625813   \n",
              "9986   -12.375726   66.418587    -3.081278   54.414265   -11.960546   \n",
              "9987    -2.524483   21.778994     4.809936   25.980829     1.775686   \n",
              "9988    -5.363541   17.209942     6.462601   21.442928     2.354765   \n",
              "9989   -11.598399   58.983097    -0.178517   55.761299    -6.903252   \n",
              "\n",
              "      mfcc19_var  mfcc20_mean  mfcc20_var  label  \n",
              "0      33.618073    -0.243027   43.771767  blues  \n",
              "1      97.030830     5.784063   59.943081  blues  \n",
              "2      53.050835     2.517375   33.105122  blues  \n",
              "3      50.836224     3.630866   32.023678  blues  \n",
              "4      26.738789     0.536961   29.146694  blues  \n",
              "...          ...          ...         ...    ...  \n",
              "9985   48.804092     1.818823   38.966969   rock  \n",
              "9986   63.452255     0.428857   18.697033   rock  \n",
              "9987   48.582378    -0.299545   41.586990   rock  \n",
              "9988   24.843613     0.675824   12.787750   rock  \n",
              "9989   39.485901    -3.412534   31.727489   rock  \n",
              "\n",
              "[9990 rows x 60 columns]"
            ]
          },
          "execution_count": 9,
          "metadata": {},
          "output_type": "execute_result"
        }
      ],
      "source": [
        "df_three"
      ]
    },
    {
      "cell_type": "code",
      "execution_count": 10,
      "metadata": {
        "colab": {
          "base_uri": "https://localhost:8080/"
        },
        "id": "yDqH7QL0PVrJ",
        "outputId": "9c60c437-55d0-445c-f843-7ae3aeba9baa"
      },
      "outputs": [
        {
          "name": "stdout",
          "output_type": "stream",
          "text": [
            "<class 'pandas.core.frame.DataFrame'>\n",
            "RangeIndex: 9990 entries, 0 to 9989\n",
            "Data columns (total 60 columns):\n",
            " #   Column                   Non-Null Count  Dtype  \n",
            "---  ------                   --------------  -----  \n",
            " 0   filename                 9990 non-null   object \n",
            " 1   length                   9990 non-null   int64  \n",
            " 2   chroma_stft_mean         9990 non-null   float64\n",
            " 3   chroma_stft_var          9990 non-null   float64\n",
            " 4   rms_mean                 9990 non-null   float64\n",
            " 5   rms_var                  9990 non-null   float64\n",
            " 6   spectral_centroid_mean   9990 non-null   float64\n",
            " 7   spectral_centroid_var    9990 non-null   float64\n",
            " 8   spectral_bandwidth_mean  9990 non-null   float64\n",
            " 9   spectral_bandwidth_var   9990 non-null   float64\n",
            " 10  rolloff_mean             9990 non-null   float64\n",
            " 11  rolloff_var              9990 non-null   float64\n",
            " 12  zero_crossing_rate_mean  9990 non-null   float64\n",
            " 13  zero_crossing_rate_var   9990 non-null   float64\n",
            " 14  harmony_mean             9990 non-null   float64\n",
            " 15  harmony_var              9990 non-null   float64\n",
            " 16  perceptr_mean            9990 non-null   float64\n",
            " 17  perceptr_var             9990 non-null   float64\n",
            " 18  tempo                    9990 non-null   float64\n",
            " 19  mfcc1_mean               9990 non-null   float64\n",
            " 20  mfcc1_var                9990 non-null   float64\n",
            " 21  mfcc2_mean               9990 non-null   float64\n",
            " 22  mfcc2_var                9990 non-null   float64\n",
            " 23  mfcc3_mean               9990 non-null   float64\n",
            " 24  mfcc3_var                9990 non-null   float64\n",
            " 25  mfcc4_mean               9990 non-null   float64\n",
            " 26  mfcc4_var                9990 non-null   float64\n",
            " 27  mfcc5_mean               9990 non-null   float64\n",
            " 28  mfcc5_var                9990 non-null   float64\n",
            " 29  mfcc6_mean               9990 non-null   float64\n",
            " 30  mfcc6_var                9990 non-null   float64\n",
            " 31  mfcc7_mean               9990 non-null   float64\n",
            " 32  mfcc7_var                9990 non-null   float64\n",
            " 33  mfcc8_mean               9990 non-null   float64\n",
            " 34  mfcc8_var                9990 non-null   float64\n",
            " 35  mfcc9_mean               9990 non-null   float64\n",
            " 36  mfcc9_var                9990 non-null   float64\n",
            " 37  mfcc10_mean              9990 non-null   float64\n",
            " 38  mfcc10_var               9990 non-null   float64\n",
            " 39  mfcc11_mean              9990 non-null   float64\n",
            " 40  mfcc11_var               9990 non-null   float64\n",
            " 41  mfcc12_mean              9990 non-null   float64\n",
            " 42  mfcc12_var               9990 non-null   float64\n",
            " 43  mfcc13_mean              9990 non-null   float64\n",
            " 44  mfcc13_var               9990 non-null   float64\n",
            " 45  mfcc14_mean              9990 non-null   float64\n",
            " 46  mfcc14_var               9990 non-null   float64\n",
            " 47  mfcc15_mean              9990 non-null   float64\n",
            " 48  mfcc15_var               9990 non-null   float64\n",
            " 49  mfcc16_mean              9990 non-null   float64\n",
            " 50  mfcc16_var               9990 non-null   float64\n",
            " 51  mfcc17_mean              9990 non-null   float64\n",
            " 52  mfcc17_var               9990 non-null   float64\n",
            " 53  mfcc18_mean              9990 non-null   float64\n",
            " 54  mfcc18_var               9990 non-null   float64\n",
            " 55  mfcc19_mean              9990 non-null   float64\n",
            " 56  mfcc19_var               9990 non-null   float64\n",
            " 57  mfcc20_mean              9990 non-null   float64\n",
            " 58  mfcc20_var               9990 non-null   float64\n",
            " 59  label                    9990 non-null   object \n",
            "dtypes: float64(57), int64(1), object(2)\n",
            "memory usage: 4.6+ MB\n"
          ]
        }
      ],
      "source": [
        "df_three.info()"
      ]
    },
    {
      "cell_type": "markdown",
      "metadata": {
        "id": "bnEo1ChOP9dp"
      },
      "source": [
        "### Thirty Second Audio Clips"
      ]
    },
    {
      "cell_type": "code",
      "execution_count": 11,
      "metadata": {
        "colab": {
          "base_uri": "https://localhost:8080/"
        },
        "id": "qWiwDdBFPYWF",
        "outputId": "783c7516-4d31-49da-b94d-11e30b5c5de5"
      },
      "outputs": [
        {
          "name": "stdout",
          "output_type": "stream",
          "text": [
            "<class 'pandas.core.frame.DataFrame'>\n",
            "RangeIndex: 1000 entries, 0 to 999\n",
            "Data columns (total 60 columns):\n",
            " #   Column                   Non-Null Count  Dtype  \n",
            "---  ------                   --------------  -----  \n",
            " 0   filename                 1000 non-null   object \n",
            " 1   length                   1000 non-null   int64  \n",
            " 2   chroma_stft_mean         1000 non-null   float64\n",
            " 3   chroma_stft_var          1000 non-null   float64\n",
            " 4   rms_mean                 1000 non-null   float64\n",
            " 5   rms_var                  1000 non-null   float64\n",
            " 6   spectral_centroid_mean   1000 non-null   float64\n",
            " 7   spectral_centroid_var    1000 non-null   float64\n",
            " 8   spectral_bandwidth_mean  1000 non-null   float64\n",
            " 9   spectral_bandwidth_var   1000 non-null   float64\n",
            " 10  rolloff_mean             1000 non-null   float64\n",
            " 11  rolloff_var              1000 non-null   float64\n",
            " 12  zero_crossing_rate_mean  1000 non-null   float64\n",
            " 13  zero_crossing_rate_var   1000 non-null   float64\n",
            " 14  harmony_mean             1000 non-null   float64\n",
            " 15  harmony_var              1000 non-null   float64\n",
            " 16  perceptr_mean            1000 non-null   float64\n",
            " 17  perceptr_var             1000 non-null   float64\n",
            " 18  tempo                    1000 non-null   float64\n",
            " 19  mfcc1_mean               1000 non-null   float64\n",
            " 20  mfcc1_var                1000 non-null   float64\n",
            " 21  mfcc2_mean               1000 non-null   float64\n",
            " 22  mfcc2_var                1000 non-null   float64\n",
            " 23  mfcc3_mean               1000 non-null   float64\n",
            " 24  mfcc3_var                1000 non-null   float64\n",
            " 25  mfcc4_mean               1000 non-null   float64\n",
            " 26  mfcc4_var                1000 non-null   float64\n",
            " 27  mfcc5_mean               1000 non-null   float64\n",
            " 28  mfcc5_var                1000 non-null   float64\n",
            " 29  mfcc6_mean               1000 non-null   float64\n",
            " 30  mfcc6_var                1000 non-null   float64\n",
            " 31  mfcc7_mean               1000 non-null   float64\n",
            " 32  mfcc7_var                1000 non-null   float64\n",
            " 33  mfcc8_mean               1000 non-null   float64\n",
            " 34  mfcc8_var                1000 non-null   float64\n",
            " 35  mfcc9_mean               1000 non-null   float64\n",
            " 36  mfcc9_var                1000 non-null   float64\n",
            " 37  mfcc10_mean              1000 non-null   float64\n",
            " 38  mfcc10_var               1000 non-null   float64\n",
            " 39  mfcc11_mean              1000 non-null   float64\n",
            " 40  mfcc11_var               1000 non-null   float64\n",
            " 41  mfcc12_mean              1000 non-null   float64\n",
            " 42  mfcc12_var               1000 non-null   float64\n",
            " 43  mfcc13_mean              1000 non-null   float64\n",
            " 44  mfcc13_var               1000 non-null   float64\n",
            " 45  mfcc14_mean              1000 non-null   float64\n",
            " 46  mfcc14_var               1000 non-null   float64\n",
            " 47  mfcc15_mean              1000 non-null   float64\n",
            " 48  mfcc15_var               1000 non-null   float64\n",
            " 49  mfcc16_mean              1000 non-null   float64\n",
            " 50  mfcc16_var               1000 non-null   float64\n",
            " 51  mfcc17_mean              1000 non-null   float64\n",
            " 52  mfcc17_var               1000 non-null   float64\n",
            " 53  mfcc18_mean              1000 non-null   float64\n",
            " 54  mfcc18_var               1000 non-null   float64\n",
            " 55  mfcc19_mean              1000 non-null   float64\n",
            " 56  mfcc19_var               1000 non-null   float64\n",
            " 57  mfcc20_mean              1000 non-null   float64\n",
            " 58  mfcc20_var               1000 non-null   float64\n",
            " 59  label                    1000 non-null   object \n",
            "dtypes: float64(57), int64(1), object(2)\n",
            "memory usage: 468.9+ KB\n"
          ]
        }
      ],
      "source": [
        "df_thirty.info()"
      ]
    },
    {
      "cell_type": "code",
      "execution_count": 12,
      "metadata": {
        "colab": {
          "base_uri": "https://localhost:8080/",
          "height": 350
        },
        "id": "dIv6S9kCPZ_9",
        "outputId": "47b88b4f-4703-4b77-9f26-f0cf41850aa7"
      },
      "outputs": [
        {
          "data": {
            "text/html": [
              "<div>\n",
              "<style scoped>\n",
              "    .dataframe tbody tr th:only-of-type {\n",
              "        vertical-align: middle;\n",
              "    }\n",
              "\n",
              "    .dataframe tbody tr th {\n",
              "        vertical-align: top;\n",
              "    }\n",
              "\n",
              "    .dataframe thead th {\n",
              "        text-align: right;\n",
              "    }\n",
              "</style>\n",
              "<table border=\"1\" class=\"dataframe\">\n",
              "  <thead>\n",
              "    <tr style=\"text-align: right;\">\n",
              "      <th></th>\n",
              "      <th>length</th>\n",
              "      <th>chroma_stft_mean</th>\n",
              "      <th>chroma_stft_var</th>\n",
              "      <th>rms_mean</th>\n",
              "      <th>rms_var</th>\n",
              "      <th>spectral_centroid_mean</th>\n",
              "      <th>spectral_centroid_var</th>\n",
              "      <th>spectral_bandwidth_mean</th>\n",
              "      <th>spectral_bandwidth_var</th>\n",
              "      <th>rolloff_mean</th>\n",
              "      <th>...</th>\n",
              "      <th>mfcc16_mean</th>\n",
              "      <th>mfcc16_var</th>\n",
              "      <th>mfcc17_mean</th>\n",
              "      <th>mfcc17_var</th>\n",
              "      <th>mfcc18_mean</th>\n",
              "      <th>mfcc18_var</th>\n",
              "      <th>mfcc19_mean</th>\n",
              "      <th>mfcc19_var</th>\n",
              "      <th>mfcc20_mean</th>\n",
              "      <th>mfcc20_var</th>\n",
              "    </tr>\n",
              "  </thead>\n",
              "  <tbody>\n",
              "    <tr>\n",
              "      <th>count</th>\n",
              "      <td>1000.000000</td>\n",
              "      <td>1000.000000</td>\n",
              "      <td>1000.000000</td>\n",
              "      <td>1000.000000</td>\n",
              "      <td>1000.000000</td>\n",
              "      <td>1000.000000</td>\n",
              "      <td>1.000000e+03</td>\n",
              "      <td>1000.000000</td>\n",
              "      <td>1000.000000</td>\n",
              "      <td>1000.000000</td>\n",
              "      <td>...</td>\n",
              "      <td>1000.000000</td>\n",
              "      <td>1000.000000</td>\n",
              "      <td>1000.000000</td>\n",
              "      <td>1000.000000</td>\n",
              "      <td>1000.000000</td>\n",
              "      <td>1000.000000</td>\n",
              "      <td>1000.000000</td>\n",
              "      <td>1000.000000</td>\n",
              "      <td>1000.000000</td>\n",
              "      <td>1000.000000</td>\n",
              "    </tr>\n",
              "    <tr>\n",
              "      <th>mean</th>\n",
              "      <td>662030.846000</td>\n",
              "      <td>0.378682</td>\n",
              "      <td>0.086340</td>\n",
              "      <td>0.130930</td>\n",
              "      <td>0.003051</td>\n",
              "      <td>2201.780898</td>\n",
              "      <td>4.696916e+05</td>\n",
              "      <td>2242.541070</td>\n",
              "      <td>137079.155165</td>\n",
              "      <td>4571.549304</td>\n",
              "      <td>...</td>\n",
              "      <td>1.148144</td>\n",
              "      <td>60.730958</td>\n",
              "      <td>-3.966028</td>\n",
              "      <td>62.633624</td>\n",
              "      <td>0.507696</td>\n",
              "      <td>63.712586</td>\n",
              "      <td>-2.328761</td>\n",
              "      <td>66.231930</td>\n",
              "      <td>-1.095348</td>\n",
              "      <td>70.126096</td>\n",
              "    </tr>\n",
              "    <tr>\n",
              "      <th>std</th>\n",
              "      <td>1784.073992</td>\n",
              "      <td>0.081705</td>\n",
              "      <td>0.007735</td>\n",
              "      <td>0.065683</td>\n",
              "      <td>0.003634</td>\n",
              "      <td>715.960600</td>\n",
              "      <td>4.008995e+05</td>\n",
              "      <td>526.316473</td>\n",
              "      <td>96455.666326</td>\n",
              "      <td>1574.791602</td>\n",
              "      <td>...</td>\n",
              "      <td>4.578948</td>\n",
              "      <td>33.781951</td>\n",
              "      <td>4.549697</td>\n",
              "      <td>33.479172</td>\n",
              "      <td>3.869105</td>\n",
              "      <td>34.401977</td>\n",
              "      <td>3.755957</td>\n",
              "      <td>37.174631</td>\n",
              "      <td>3.837007</td>\n",
              "      <td>45.228512</td>\n",
              "    </tr>\n",
              "    <tr>\n",
              "      <th>min</th>\n",
              "      <td>660000.000000</td>\n",
              "      <td>0.171939</td>\n",
              "      <td>0.044555</td>\n",
              "      <td>0.005276</td>\n",
              "      <td>0.000004</td>\n",
              "      <td>570.040355</td>\n",
              "      <td>7.911251e+03</td>\n",
              "      <td>898.066208</td>\n",
              "      <td>10787.185064</td>\n",
              "      <td>749.140636</td>\n",
              "      <td>...</td>\n",
              "      <td>-15.693844</td>\n",
              "      <td>9.169314</td>\n",
              "      <td>-17.234728</td>\n",
              "      <td>13.931521</td>\n",
              "      <td>-11.963694</td>\n",
              "      <td>15.420555</td>\n",
              "      <td>-18.501955</td>\n",
              "      <td>13.487622</td>\n",
              "      <td>-19.929634</td>\n",
              "      <td>7.956583</td>\n",
              "    </tr>\n",
              "    <tr>\n",
              "      <th>25%</th>\n",
              "      <td>661504.000000</td>\n",
              "      <td>0.319562</td>\n",
              "      <td>0.082298</td>\n",
              "      <td>0.086657</td>\n",
              "      <td>0.000942</td>\n",
              "      <td>1627.697311</td>\n",
              "      <td>1.843505e+05</td>\n",
              "      <td>1907.240605</td>\n",
              "      <td>67376.554428</td>\n",
              "      <td>3380.069642</td>\n",
              "      <td>...</td>\n",
              "      <td>-1.863280</td>\n",
              "      <td>40.376442</td>\n",
              "      <td>-7.207225</td>\n",
              "      <td>40.830875</td>\n",
              "      <td>-2.007015</td>\n",
              "      <td>41.884240</td>\n",
              "      <td>-4.662925</td>\n",
              "      <td>41.710184</td>\n",
              "      <td>-3.368996</td>\n",
              "      <td>42.372865</td>\n",
              "    </tr>\n",
              "    <tr>\n",
              "      <th>50%</th>\n",
              "      <td>661794.000000</td>\n",
              "      <td>0.383148</td>\n",
              "      <td>0.086615</td>\n",
              "      <td>0.122443</td>\n",
              "      <td>0.001816</td>\n",
              "      <td>2209.263090</td>\n",
              "      <td>3.384862e+05</td>\n",
              "      <td>2221.392843</td>\n",
              "      <td>111977.548036</td>\n",
              "      <td>4658.524473</td>\n",
              "      <td>...</td>\n",
              "      <td>1.212809</td>\n",
              "      <td>52.325077</td>\n",
              "      <td>-4.065605</td>\n",
              "      <td>54.717674</td>\n",
              "      <td>0.669643</td>\n",
              "      <td>54.804890</td>\n",
              "      <td>-2.393862</td>\n",
              "      <td>57.423059</td>\n",
              "      <td>-1.166289</td>\n",
              "      <td>59.186117</td>\n",
              "    </tr>\n",
              "    <tr>\n",
              "      <th>75%</th>\n",
              "      <td>661794.000000</td>\n",
              "      <td>0.435942</td>\n",
              "      <td>0.091256</td>\n",
              "      <td>0.175682</td>\n",
              "      <td>0.003577</td>\n",
              "      <td>2691.294667</td>\n",
              "      <td>6.121479e+05</td>\n",
              "      <td>2578.469836</td>\n",
              "      <td>182371.576801</td>\n",
              "      <td>5533.810460</td>\n",
              "      <td>...</td>\n",
              "      <td>4.359662</td>\n",
              "      <td>71.691755</td>\n",
              "      <td>-0.838737</td>\n",
              "      <td>75.040838</td>\n",
              "      <td>3.119212</td>\n",
              "      <td>75.385832</td>\n",
              "      <td>0.150573</td>\n",
              "      <td>78.626444</td>\n",
              "      <td>1.312615</td>\n",
              "      <td>85.375374</td>\n",
              "    </tr>\n",
              "    <tr>\n",
              "      <th>max</th>\n",
              "      <td>675808.000000</td>\n",
              "      <td>0.663685</td>\n",
              "      <td>0.108111</td>\n",
              "      <td>0.397973</td>\n",
              "      <td>0.027679</td>\n",
              "      <td>4435.243901</td>\n",
              "      <td>3.036843e+06</td>\n",
              "      <td>3509.646417</td>\n",
              "      <td>694784.811549</td>\n",
              "      <td>8677.672688</td>\n",
              "      <td>...</td>\n",
              "      <td>13.457150</td>\n",
              "      <td>392.932373</td>\n",
              "      <td>11.482946</td>\n",
              "      <td>406.058868</td>\n",
              "      <td>15.388390</td>\n",
              "      <td>332.905426</td>\n",
              "      <td>14.694924</td>\n",
              "      <td>393.161987</td>\n",
              "      <td>15.369627</td>\n",
              "      <td>506.065155</td>\n",
              "    </tr>\n",
              "  </tbody>\n",
              "</table>\n",
              "<p>8 rows × 58 columns</p>\n",
              "</div>"
            ],
            "text/plain": [
              "              length  chroma_stft_mean  chroma_stft_var     rms_mean  \\\n",
              "count    1000.000000       1000.000000      1000.000000  1000.000000   \n",
              "mean   662030.846000          0.378682         0.086340     0.130930   \n",
              "std      1784.073992          0.081705         0.007735     0.065683   \n",
              "min    660000.000000          0.171939         0.044555     0.005276   \n",
              "25%    661504.000000          0.319562         0.082298     0.086657   \n",
              "50%    661794.000000          0.383148         0.086615     0.122443   \n",
              "75%    661794.000000          0.435942         0.091256     0.175682   \n",
              "max    675808.000000          0.663685         0.108111     0.397973   \n",
              "\n",
              "           rms_var  spectral_centroid_mean  spectral_centroid_var  \\\n",
              "count  1000.000000             1000.000000           1.000000e+03   \n",
              "mean      0.003051             2201.780898           4.696916e+05   \n",
              "std       0.003634              715.960600           4.008995e+05   \n",
              "min       0.000004              570.040355           7.911251e+03   \n",
              "25%       0.000942             1627.697311           1.843505e+05   \n",
              "50%       0.001816             2209.263090           3.384862e+05   \n",
              "75%       0.003577             2691.294667           6.121479e+05   \n",
              "max       0.027679             4435.243901           3.036843e+06   \n",
              "\n",
              "       spectral_bandwidth_mean  spectral_bandwidth_var  rolloff_mean  ...  \\\n",
              "count              1000.000000             1000.000000   1000.000000  ...   \n",
              "mean               2242.541070           137079.155165   4571.549304  ...   \n",
              "std                 526.316473            96455.666326   1574.791602  ...   \n",
              "min                 898.066208            10787.185064    749.140636  ...   \n",
              "25%                1907.240605            67376.554428   3380.069642  ...   \n",
              "50%                2221.392843           111977.548036   4658.524473  ...   \n",
              "75%                2578.469836           182371.576801   5533.810460  ...   \n",
              "max                3509.646417           694784.811549   8677.672688  ...   \n",
              "\n",
              "       mfcc16_mean   mfcc16_var  mfcc17_mean   mfcc17_var  mfcc18_mean  \\\n",
              "count  1000.000000  1000.000000  1000.000000  1000.000000  1000.000000   \n",
              "mean      1.148144    60.730958    -3.966028    62.633624     0.507696   \n",
              "std       4.578948    33.781951     4.549697    33.479172     3.869105   \n",
              "min     -15.693844     9.169314   -17.234728    13.931521   -11.963694   \n",
              "25%      -1.863280    40.376442    -7.207225    40.830875    -2.007015   \n",
              "50%       1.212809    52.325077    -4.065605    54.717674     0.669643   \n",
              "75%       4.359662    71.691755    -0.838737    75.040838     3.119212   \n",
              "max      13.457150   392.932373    11.482946   406.058868    15.388390   \n",
              "\n",
              "        mfcc18_var  mfcc19_mean   mfcc19_var  mfcc20_mean   mfcc20_var  \n",
              "count  1000.000000  1000.000000  1000.000000  1000.000000  1000.000000  \n",
              "mean     63.712586    -2.328761    66.231930    -1.095348    70.126096  \n",
              "std      34.401977     3.755957    37.174631     3.837007    45.228512  \n",
              "min      15.420555   -18.501955    13.487622   -19.929634     7.956583  \n",
              "25%      41.884240    -4.662925    41.710184    -3.368996    42.372865  \n",
              "50%      54.804890    -2.393862    57.423059    -1.166289    59.186117  \n",
              "75%      75.385832     0.150573    78.626444     1.312615    85.375374  \n",
              "max     332.905426    14.694924   393.161987    15.369627   506.065155  \n",
              "\n",
              "[8 rows x 58 columns]"
            ]
          },
          "execution_count": 12,
          "metadata": {},
          "output_type": "execute_result"
        }
      ],
      "source": [
        "df_thirty.describe()"
      ]
    },
    {
      "cell_type": "markdown",
      "metadata": {
        "id": "jp1x8WDkFqol"
      },
      "source": [
        "### Loading Images as training data"
      ]
    },
    {
      "cell_type": "markdown",
      "metadata": {
        "id": "MXKbrfbNJfjn"
      },
      "source": [
        "Images are read into RGBA, where A is transparency. As seen below, all transparency values are 255. We can get rid of them."
      ]
    },
    {
      "cell_type": "code",
      "execution_count": 14,
      "metadata": {
        "colab": {
          "base_uri": "https://localhost:8080/",
          "height": 337
        },
        "id": "tdY8g5YJGNDU",
        "outputId": "b9b609e7-0de9-477a-e035-49385a23d920"
      },
      "outputs": [],
      "source": [
        "import os\n",
        "import numpy as np\n",
        "from PIL import Image\n",
        "\n",
        "# Define genres\n",
        "genres = df_three.label.unique()\n",
        "\n",
        "# Function to load images from directory\n",
        "def load_images(root_folder, genres):\n",
        "    images = []\n",
        "    y = []\n",
        "    for genre in genres:\n",
        "      img_temp, y_temp = load_images_from_genre(root_folder, genre)\n",
        "      images.extend(img_temp)\n",
        "      y.extend(y_temp)\n",
        "    return np.array(images), np.array(y)\n",
        "\n",
        "def load_images_from_genre(root_folder, genre):\n",
        "    images = []\n",
        "    folder = root_folder+f\"/{genre}\"\n",
        "    for filename in os.listdir(folder):\n",
        "        img = Image.open(os.path.join(folder, filename))\n",
        "\n",
        "        # Get rid of 'A' in 'RGBA'\n",
        "        img = img.convert(\"RGB\")\n",
        "        if img is not None:\n",
        "            img = np.array(img)\n",
        "            images.append(img)\n",
        "    images = np.stack(images)\n",
        "    return np.array(images), np.array([genre]*images.shape[0]).reshape(-1, 1)\n",
        "\n",
        "# Load images that we created\n",
        "\n",
        "X, y = load_images(IMAGES_PATH, genres)"
      ]
    },
    {
      "cell_type": "code",
      "execution_count": 35,
      "metadata": {},
      "outputs": [
        {
          "name": "stderr",
          "output_type": "stream",
          "text": [
            "Clipping input data to the valid range for imshow with RGB data ([0..1] for floats or [0..255] for integers).\n"
          ]
        },
        {
          "data": {
            "text/plain": [
              "<matplotlib.image.AxesImage at 0x160ba30e0>"
            ]
          },
          "execution_count": 35,
          "metadata": {},
          "output_type": "execute_result"
        },
        {
          "data": {
            "image/png": "[encoded data removed]",
            "text/plain": [
              "<Figure size 640x480 with 1 Axes>"
            ]
          },
          "metadata": {},
          "output_type": "display_data"
        }
      ],
      "source": [
        "plt.imshow(X[102])"
      ]
    },
    {
      "cell_type": "markdown",
      "metadata": {
        "id": "PGql4PxsvEQC"
      },
      "source": [
        "### One Hot Encode, Normalize, Flatten"
      ]
    },
    {
      "cell_type": "code",
      "execution_count": 16,
      "metadata": {
        "id": "hQBWBqPQPDWG"
      },
      "outputs": [
        {
          "data": {
            "text/plain": [
              "(288, 432)"
            ]
          },
          "execution_count": 16,
          "metadata": {},
          "output_type": "execute_result"
        }
      ],
      "source": [
        "image_dimensions = X.shape[1:3]\n",
        "image_dimensions"
      ]
    },
    {
      "cell_type": "code",
      "execution_count": 17,
      "metadata": {
        "id": "Es-TCz6WyHYe"
      },
      "outputs": [
        {
          "data": {
            "text/plain": [
              "(999, 288, 432, 3)"
            ]
          },
          "execution_count": 17,
          "metadata": {},
          "output_type": "execute_result"
        }
      ],
      "source": [
        "X = ((X / 255.0)*2.0)-1\n",
        "X.shape"
      ]
    },
    {
      "cell_type": "markdown",
      "metadata": {
        "id": "OrwfryDecE7p"
      },
      "source": [
        "Making sure images are normalized to [-1.0, 1.0]"
      ]
    },
    {
      "cell_type": "code",
      "execution_count": 18,
      "metadata": {
        "id": "OOi__UESzlQv"
      },
      "outputs": [
        {
          "data": {
            "image/png": "[encoded data removed]",
            "text/plain": [
              "<Figure size 640x480 with 1 Axes>"
            ]
          },
          "metadata": {},
          "output_type": "display_data"
        }
      ],
      "source": [
        "plt.hist(X[0].flatten())\n",
        "plt.show()"
      ]
    },
    {
      "cell_type": "markdown",
      "metadata": {
        "id": "sy3xmkXH0O9Q"
      },
      "source": [
        "## Train Test Split"
      ]
    },
    {
      "cell_type": "code",
      "execution_count": 24,
      "metadata": {
        "colab": {
          "base_uri": "https://localhost:8080/"
        },
        "id": "ErugIQWo0OQz",
        "outputId": "a45fd9e3-dc84-4254-9b17-e198e5744bde"
      },
      "outputs": [
        {
          "name": "stdout",
          "output_type": "stream",
          "text": [
            "Shape of X_train: (799, 288, 432, 3)\n",
            "Shape of X_test: (200, 288, 432, 3)\n",
            "Shape of y_train: (799, 1)\n",
            "Shape of y_test: (200, 1)\n"
          ]
        }
      ],
      "source": [
        "from sklearn.model_selection import train_test_split\n",
        "\n",
        "# Split the dataset into training and testing sets\n",
        "# Use stratify to evenly split the data\n",
        "X_train, X_test, y_train, y_test = train_test_split(X, y, test_size=0.2, random_state=42, stratify=y)\n",
        "\n",
        "# Print the shapes of the resulting datasets\n",
        "print(\"Shape of X_train:\", X_train.shape)\n",
        "print(\"Shape of X_test:\", X_test.shape)\n",
        "print(\"Shape of y_train:\", y_train.shape)\n",
        "print(\"Shape of y_test:\", y_test.shape)\n"
      ]
    },
    {
      "cell_type": "code",
      "execution_count": 21,
      "metadata": {
        "colab": {
          "base_uri": "https://localhost:8080/"
        },
        "id": "r5HgZrNm1KMH",
        "outputId": "d4516aeb-7f12-4605-f500-e60702b4d425"
      },
      "outputs": [
        {
          "name": "stdout",
          "output_type": "stream",
          "text": [
            "[80 80 80 80 80 79 80 80 80 80]\n",
            "[20 20 20 20 20 20 20 20 20 20]\n"
          ]
        }
      ],
      "source": [
        "# Checking for ~ evenly distributed test, training classes\n",
        "print(np.unique(y_train, return_counts=True)[1])\n",
        "print(np.unique(y_test, return_counts=True)[1])"
      ]
    },
    {
      "cell_type": "code",
      "execution_count": 22,
      "metadata": {
        "colab": {
          "base_uri": "https://localhost:8080/"
        },
        "id": "pzQnVcNV3XtV",
        "outputId": "d64cc549-18db-4b6b-bb03-ad91d6d21829"
      },
      "outputs": [
        {
          "data": {
            "text/plain": [
              "array(['blues', 'classical', 'country', 'disco', 'hiphop', 'jazz',\n",
              "       'metal', 'pop', 'reggae', 'rock'], dtype=object)"
            ]
          },
          "execution_count": 22,
          "metadata": {},
          "output_type": "execute_result"
        }
      ],
      "source": [
        "genres"
      ]
    },
    {
      "cell_type": "markdown",
      "metadata": {
        "id": "2OTqYVSFNYmM"
      },
      "source": []
    },
    {
      "cell_type": "markdown",
      "metadata": {
        "id": "TOMEeeQIN6DI"
      },
      "source": [
        "# Implementing the CNN"
      ]
    },
    {
      "cell_type": "code",
      "execution_count": 143,
      "metadata": {
        "colab": {
          "base_uri": "https://localhost:8080/",
          "height": 239
        },
        "id": "zDBojRz-N-ss",
        "outputId": "f354ef8b-e79f-4510-a6cb-ad99f089eda1"
      },
      "outputs": [],
      "source": [
        "import torch\n",
        "import torchvision\n",
        "import torchvision.transforms as transforms\n",
        "from torchvision.transforms import Lambda\n",
        "from torch.utils.data import Dataset, DataLoader\n",
        "from sklearn.preprocessing import LabelEncoder\n",
        "\n",
        "transform = transforms.Compose([transforms.ToTensor()])\n",
        "\n",
        "\n",
        "#X_train = torch.tensor(X_train)\n",
        "#X_test = torch.tensor(X_test)\n",
        "\n",
        "# Define custom dataset in order to have a dataset + dataloader\n",
        "class CustomDataset(Dataset):\n",
        "    def __init__(self, x_train, y_train, transform=None, target_transform=None):\n",
        "        self.x_train = x_train\n",
        "        self.y_train = y_train\n",
        "        self.transform = transform\n",
        "        self.target_transform = target_transform\n",
        "\n",
        "    def __len__(self):\n",
        "        return len(self.x_train)\n",
        "\n",
        "    def __getitem__(self, idx):\n",
        "        if torch.is_tensor(idx):\n",
        "            idx = idx.tolist()\n",
        "\n",
        "        image = self.x_train[idx]\n",
        "        label = self.y_train[idx]\n",
        "\n",
        "        if self.transform:\n",
        "            image = self.transform(image)\n",
        "        \n",
        "        if self.target_transform:\n",
        "            label = self.target_transform(label)\n",
        "\n",
        "        return image, label\n",
        "\n",
        "# Converting data to tensors\n",
        "X_train = torch.tensor(X_train)\n",
        "X_train = X_train.permute(0,3,1,2)\n",
        "X_train = X_train.type(torch.float32)\n",
        "\n",
        "X_test = torch.tensor(X_test)\n",
        "X_test = X_test.permute(0,3,1,2)\n",
        "X_test = X_test.type(torch.float32)\n",
        "\n",
        "# Encoding labels\n",
        "label_encoder = LabelEncoder()\n",
        "label_encoder.fit(genres)\n",
        "\n",
        "BATCH_SIZE = 50\n",
        "\n",
        "target_transform = Lambda(lambda y: label_encoder.transform(y))\n",
        "\n",
        "train_dataset = CustomDataset(X_train, y_train, transform=None, target_transform=target_transform)\n",
        "train_dataloader = DataLoader(train_dataset, batch_size=BATCH_SIZE, shuffle=True)\n",
        "\n",
        "test_dataset = CustomDataset(X_test, y_test, transform=None,  target_transform=target_transform)\n",
        "test_dataloader = DataLoader(test_dataset, batch_size=BATCH_SIZE, shuffle=True)"
      ]
    },
    {
      "cell_type": "markdown",
      "metadata": {},
      "source": [
        "From tutorial https://pytorch.org/tutorials/beginner/blitz/cifar10_tutorial.html"
      ]
    },
    {
      "cell_type": "code",
      "execution_count": 175,
      "metadata": {},
      "outputs": [],
      "source": [
        "import torch.nn as nn\n",
        "import torch.nn.functional as F\n",
        "\n",
        "\n",
        "class Net(nn.Module):\n",
        "    def __init__(self, image_input_shape):\n",
        "        super().__init__()\n",
        "        if image_input_shape:\n",
        "            self.row_length, self.col_length = image_input_shape\n",
        "\n",
        "        self.convrelu = lambda in_channels, out_channels, kernel_size, stride: nn.Sequential(\n",
        "        nn.Conv2d(in_channels, out_channels, \n",
        "                  kernel_size, stride, padding=\"same\"),\n",
        "        nn.ReLU()\n",
        "        )\n",
        "    \n",
        "        self.pool = nn.MaxPool2d(2, 2)\n",
        "        self.fc_layers = nn.Sequential(\n",
        "\n",
        "        )\n",
        "        \n",
        "        self.network = nn.Sequential(\n",
        "            self.convrelu(3, 12, 3, 1),\n",
        "            self.pool,\n",
        "            \n",
        "            self.convrelu(12, 24, 3, 1),\n",
        "            self.pool,\n",
        "\n",
        "            self.convrelu(24, 48, 3, 1),\n",
        "            self.pool,\n",
        "\n",
        "            nn.Flatten(),\n",
        "            nn.Linear(1944*48, 1000),\n",
        "            nn.ReLU(),\n",
        "            nn.Linear(1000, 250),\n",
        "            nn.ReLU(),\n",
        "            nn.Linear(250, 10),\n",
        "\n",
        "        )\n",
        "\n",
        "        \n",
        "\n",
        "    def forward(self, x):\n",
        "        return self.network(x)\n",
        "\n",
        "net = Net(image_dimensions)\n"
      ]
    },
    {
      "cell_type": "code",
      "execution_count": 179,
      "metadata": {},
      "outputs": [],
      "source": [
        "import torch.optim as optim\n",
        "\n",
        "criterion = nn.CrossEntropyLoss()\n",
        "optimizer = optim.SGD(net.parameters(), lr=0.001, momentum=0.9)"
      ]
    },
    {
      "cell_type": "code",
      "execution_count": null,
      "metadata": {},
      "outputs": [],
      "source": [
        "criterion()"
      ]
    },
    {
      "cell_type": "code",
      "execution_count": 200,
      "metadata": {},
      "outputs": [
        {
          "name": "stdout",
          "output_type": "stream",
          "text": [
            "[1,     1] loss: 0.749\n",
            "[1,     3] loss: 1.901\n",
            "[1,     5] loss: 2.060\n",
            "[1,     7] loss: 1.927\n",
            "[1,     9] loss: 1.810\n",
            "[1,    11] loss: 1.822\n",
            "[1,    13] loss: 1.725\n",
            "[1,    15] loss: 1.939\n",
            "[1,    17] loss: 1.755\n",
            "[1,    19] loss: 1.795\n",
            "[1,    21] loss: 1.896\n",
            "[1,    23] loss: 1.872\n",
            "[1,    25] loss: 1.742\n",
            "[1,    27] loss: 1.929\n",
            "[1,    29] loss: 1.731\n",
            "[1,    31] loss: 1.967\n",
            "[1,    33] loss: 1.966\n",
            "[1,    35] loss: 1.618\n",
            "[1,    37] loss: 1.569\n",
            "[1,    39] loss: 1.551\n",
            "[1,    41] loss: 2.169\n",
            "[1,    43] loss: 1.858\n",
            "[1,    45] loss: 1.527\n",
            "[1,    47] loss: 1.803\n",
            "[1,    49] loss: 1.642\n",
            "[1,    51] loss: 1.949\n",
            "[1,    53] loss: 2.001\n",
            "[1,    55] loss: 1.916\n",
            "[1,    57] loss: 1.551\n",
            "[1,    59] loss: 2.346\n",
            "[1,    61] loss: 1.980\n",
            "[1,    63] loss: 1.971\n",
            "[1,    65] loss: 1.935\n",
            "[1,    67] loss: 1.804\n",
            "[1,    69] loss: 1.840\n",
            "[1,    71] loss: 1.903\n",
            "[1,    73] loss: 1.719\n",
            "[1,    75] loss: 2.103\n",
            "[1,    77] loss: 1.916\n",
            "[1,    79] loss: 1.937\n",
            "[2,     1] loss: 0.875\n",
            "[2,     3] loss: 2.105\n",
            "[2,     5] loss: 1.706\n",
            "[2,     7] loss: 1.731\n",
            "[2,     9] loss: 1.982\n",
            "[2,    11] loss: 1.701\n",
            "[2,    13] loss: 2.149\n",
            "[2,    15] loss: 1.721\n",
            "[2,    17] loss: 2.021\n",
            "[2,    19] loss: 1.935\n",
            "[2,    21] loss: 1.811\n",
            "[2,    23] loss: 1.717\n",
            "[2,    25] loss: 1.807\n",
            "[2,    27] loss: 1.665\n",
            "[2,    29] loss: 2.053\n",
            "[2,    31] loss: 1.373\n",
            "[2,    33] loss: 1.536\n",
            "[2,    35] loss: 1.727\n",
            "[2,    37] loss: 1.623\n",
            "[2,    39] loss: 1.731\n",
            "[2,    41] loss: 1.991\n",
            "[2,    43] loss: 1.923\n",
            "[2,    45] loss: 2.148\n",
            "[2,    47] loss: 1.653\n",
            "[2,    49] loss: 1.988\n",
            "[2,    51] loss: 1.307\n",
            "[2,    53] loss: 1.647\n",
            "[2,    55] loss: 1.723\n",
            "[2,    57] loss: 1.853\n",
            "[2,    59] loss: 1.631\n",
            "[2,    61] loss: 1.873\n",
            "[2,    63] loss: 1.724\n",
            "[2,    65] loss: 1.759\n",
            "[2,    67] loss: 1.865\n",
            "[2,    69] loss: 1.771\n",
            "[2,    71] loss: 1.580\n",
            "[2,    73] loss: 2.132\n",
            "[2,    75] loss: 1.957\n",
            "[2,    77] loss: 1.892\n",
            "[2,    79] loss: 1.784\n",
            "[3,     1] loss: 0.788\n",
            "[3,     3] loss: 1.872\n",
            "[3,     5] loss: 1.860\n",
            "[3,     7] loss: 1.879\n",
            "[3,     9] loss: 1.751\n",
            "[3,    11] loss: 1.782\n",
            "[3,    13] loss: 1.735\n",
            "[3,    15] loss: 1.933\n",
            "[3,    17] loss: 2.060\n",
            "[3,    19] loss: 1.937\n",
            "[3,    21] loss: 1.580\n",
            "[3,    23] loss: 1.797\n",
            "[3,    25] loss: 1.953\n"
          ]
        },
        {
          "ename": "KeyboardInterrupt",
          "evalue": "",
          "output_type": "error",
          "traceback": [
            "\u001b[0;31m---------------------------------------------------------------------------\u001b[0m",
            "\u001b[0;31mKeyboardInterrupt\u001b[0m                         Traceback (most recent call last)",
            "Cell \u001b[0;32mIn[200], line 27\u001b[0m\n\u001b[1;32m     24\u001b[0m                 running_loss \u001b[38;5;241m=\u001b[39m \u001b[38;5;241m0.0\u001b[39m\n\u001b[1;32m     26\u001b[0m     \u001b[38;5;28mprint\u001b[39m(\u001b[38;5;124m'\u001b[39m\u001b[38;5;124mFinished Training\u001b[39m\u001b[38;5;124m'\u001b[39m)\n\u001b[0;32m---> 27\u001b[0m \u001b[43mtrain_model\u001b[49m\u001b[43m(\u001b[49m\u001b[43mnet\u001b[49m\u001b[43m,\u001b[49m\u001b[43m \u001b[49m\u001b[38;5;241;43m10\u001b[39;49m\u001b[43m,\u001b[49m\u001b[43m \u001b[49m\u001b[43mtrain_dataloader\u001b[49m\u001b[43m,\u001b[49m\u001b[43m \u001b[49m\u001b[43mcriterion\u001b[49m\u001b[43m,\u001b[49m\u001b[43m \u001b[49m\u001b[43moptimizer\u001b[49m\u001b[43m)\u001b[49m\n",
            "Cell \u001b[0;32mIn[200], line 14\u001b[0m, in \u001b[0;36mtrain_model\u001b[0;34m(net, epochs, train_dataloader, criterion, optimizer, val_dataloader)\u001b[0m\n\u001b[1;32m     11\u001b[0m optimizer\u001b[38;5;241m.\u001b[39mzero_grad()\n\u001b[1;32m     13\u001b[0m \u001b[38;5;66;03m# forward + backward + optimize\u001b[39;00m\n\u001b[0;32m---> 14\u001b[0m outputs \u001b[38;5;241m=\u001b[39m \u001b[43mnet\u001b[49m\u001b[43m(\u001b[49m\u001b[43minputs\u001b[49m\u001b[43m)\u001b[49m\n\u001b[1;32m     16\u001b[0m loss \u001b[38;5;241m=\u001b[39m criterion(outputs, labels)\n\u001b[1;32m     17\u001b[0m loss\u001b[38;5;241m.\u001b[39mbackward()\n",
            "File \u001b[0;32m/opt/homebrew/Caskroom/miniforge/base/envs/DeepLearning/lib/python3.12/site-packages/torch/nn/modules/module.py:1511\u001b[0m, in \u001b[0;36mModule._wrapped_call_impl\u001b[0;34m(self, *args, **kwargs)\u001b[0m\n\u001b[1;32m   1509\u001b[0m     \u001b[38;5;28;01mreturn\u001b[39;00m \u001b[38;5;28mself\u001b[39m\u001b[38;5;241m.\u001b[39m_compiled_call_impl(\u001b[38;5;241m*\u001b[39margs, \u001b[38;5;241m*\u001b[39m\u001b[38;5;241m*\u001b[39mkwargs)  \u001b[38;5;66;03m# type: ignore[misc]\u001b[39;00m\n\u001b[1;32m   1510\u001b[0m \u001b[38;5;28;01melse\u001b[39;00m:\n\u001b[0;32m-> 1511\u001b[0m     \u001b[38;5;28;01mreturn\u001b[39;00m \u001b[38;5;28;43mself\u001b[39;49m\u001b[38;5;241;43m.\u001b[39;49m\u001b[43m_call_impl\u001b[49m\u001b[43m(\u001b[49m\u001b[38;5;241;43m*\u001b[39;49m\u001b[43margs\u001b[49m\u001b[43m,\u001b[49m\u001b[43m \u001b[49m\u001b[38;5;241;43m*\u001b[39;49m\u001b[38;5;241;43m*\u001b[39;49m\u001b[43mkwargs\u001b[49m\u001b[43m)\u001b[49m\n",
            "File \u001b[0;32m/opt/homebrew/Caskroom/miniforge/base/envs/DeepLearning/lib/python3.12/site-packages/torch/nn/modules/module.py:1520\u001b[0m, in \u001b[0;36mModule._call_impl\u001b[0;34m(self, *args, **kwargs)\u001b[0m\n\u001b[1;32m   1515\u001b[0m \u001b[38;5;66;03m# If we don't have any hooks, we want to skip the rest of the logic in\u001b[39;00m\n\u001b[1;32m   1516\u001b[0m \u001b[38;5;66;03m# this function, and just call forward.\u001b[39;00m\n\u001b[1;32m   1517\u001b[0m \u001b[38;5;28;01mif\u001b[39;00m \u001b[38;5;129;01mnot\u001b[39;00m (\u001b[38;5;28mself\u001b[39m\u001b[38;5;241m.\u001b[39m_backward_hooks \u001b[38;5;129;01mor\u001b[39;00m \u001b[38;5;28mself\u001b[39m\u001b[38;5;241m.\u001b[39m_backward_pre_hooks \u001b[38;5;129;01mor\u001b[39;00m \u001b[38;5;28mself\u001b[39m\u001b[38;5;241m.\u001b[39m_forward_hooks \u001b[38;5;129;01mor\u001b[39;00m \u001b[38;5;28mself\u001b[39m\u001b[38;5;241m.\u001b[39m_forward_pre_hooks\n\u001b[1;32m   1518\u001b[0m         \u001b[38;5;129;01mor\u001b[39;00m _global_backward_pre_hooks \u001b[38;5;129;01mor\u001b[39;00m _global_backward_hooks\n\u001b[1;32m   1519\u001b[0m         \u001b[38;5;129;01mor\u001b[39;00m _global_forward_hooks \u001b[38;5;129;01mor\u001b[39;00m _global_forward_pre_hooks):\n\u001b[0;32m-> 1520\u001b[0m     \u001b[38;5;28;01mreturn\u001b[39;00m \u001b[43mforward_call\u001b[49m\u001b[43m(\u001b[49m\u001b[38;5;241;43m*\u001b[39;49m\u001b[43margs\u001b[49m\u001b[43m,\u001b[49m\u001b[43m \u001b[49m\u001b[38;5;241;43m*\u001b[39;49m\u001b[38;5;241;43m*\u001b[39;49m\u001b[43mkwargs\u001b[49m\u001b[43m)\u001b[49m\n\u001b[1;32m   1522\u001b[0m \u001b[38;5;28;01mtry\u001b[39;00m:\n\u001b[1;32m   1523\u001b[0m     result \u001b[38;5;241m=\u001b[39m \u001b[38;5;28;01mNone\u001b[39;00m\n",
            "Cell \u001b[0;32mIn[175], line 44\u001b[0m, in \u001b[0;36mNet.forward\u001b[0;34m(self, x)\u001b[0m\n\u001b[1;32m     43\u001b[0m \u001b[38;5;28;01mdef\u001b[39;00m \u001b[38;5;21mforward\u001b[39m(\u001b[38;5;28mself\u001b[39m, x):\n\u001b[0;32m---> 44\u001b[0m     \u001b[38;5;28;01mreturn\u001b[39;00m \u001b[38;5;28;43mself\u001b[39;49m\u001b[38;5;241;43m.\u001b[39;49m\u001b[43mnetwork\u001b[49m\u001b[43m(\u001b[49m\u001b[43mx\u001b[49m\u001b[43m)\u001b[49m\n",
            "File \u001b[0;32m/opt/homebrew/Caskroom/miniforge/base/envs/DeepLearning/lib/python3.12/site-packages/torch/nn/modules/module.py:1511\u001b[0m, in \u001b[0;36mModule._wrapped_call_impl\u001b[0;34m(self, *args, **kwargs)\u001b[0m\n\u001b[1;32m   1509\u001b[0m     \u001b[38;5;28;01mreturn\u001b[39;00m \u001b[38;5;28mself\u001b[39m\u001b[38;5;241m.\u001b[39m_compiled_call_impl(\u001b[38;5;241m*\u001b[39margs, \u001b[38;5;241m*\u001b[39m\u001b[38;5;241m*\u001b[39mkwargs)  \u001b[38;5;66;03m# type: ignore[misc]\u001b[39;00m\n\u001b[1;32m   1510\u001b[0m \u001b[38;5;28;01melse\u001b[39;00m:\n\u001b[0;32m-> 1511\u001b[0m     \u001b[38;5;28;01mreturn\u001b[39;00m \u001b[38;5;28;43mself\u001b[39;49m\u001b[38;5;241;43m.\u001b[39;49m\u001b[43m_call_impl\u001b[49m\u001b[43m(\u001b[49m\u001b[38;5;241;43m*\u001b[39;49m\u001b[43margs\u001b[49m\u001b[43m,\u001b[49m\u001b[43m \u001b[49m\u001b[38;5;241;43m*\u001b[39;49m\u001b[38;5;241;43m*\u001b[39;49m\u001b[43mkwargs\u001b[49m\u001b[43m)\u001b[49m\n",
            "File \u001b[0;32m/opt/homebrew/Caskroom/miniforge/base/envs/DeepLearning/lib/python3.12/site-packages/torch/nn/modules/module.py:1520\u001b[0m, in \u001b[0;36mModule._call_impl\u001b[0;34m(self, *args, **kwargs)\u001b[0m\n\u001b[1;32m   1515\u001b[0m \u001b[38;5;66;03m# If we don't have any hooks, we want to skip the rest of the logic in\u001b[39;00m\n\u001b[1;32m   1516\u001b[0m \u001b[38;5;66;03m# this function, and just call forward.\u001b[39;00m\n\u001b[1;32m   1517\u001b[0m \u001b[38;5;28;01mif\u001b[39;00m \u001b[38;5;129;01mnot\u001b[39;00m (\u001b[38;5;28mself\u001b[39m\u001b[38;5;241m.\u001b[39m_backward_hooks \u001b[38;5;129;01mor\u001b[39;00m \u001b[38;5;28mself\u001b[39m\u001b[38;5;241m.\u001b[39m_backward_pre_hooks \u001b[38;5;129;01mor\u001b[39;00m \u001b[38;5;28mself\u001b[39m\u001b[38;5;241m.\u001b[39m_forward_hooks \u001b[38;5;129;01mor\u001b[39;00m \u001b[38;5;28mself\u001b[39m\u001b[38;5;241m.\u001b[39m_forward_pre_hooks\n\u001b[1;32m   1518\u001b[0m         \u001b[38;5;129;01mor\u001b[39;00m _global_backward_pre_hooks \u001b[38;5;129;01mor\u001b[39;00m _global_backward_hooks\n\u001b[1;32m   1519\u001b[0m         \u001b[38;5;129;01mor\u001b[39;00m _global_forward_hooks \u001b[38;5;129;01mor\u001b[39;00m _global_forward_pre_hooks):\n\u001b[0;32m-> 1520\u001b[0m     \u001b[38;5;28;01mreturn\u001b[39;00m \u001b[43mforward_call\u001b[49m\u001b[43m(\u001b[49m\u001b[38;5;241;43m*\u001b[39;49m\u001b[43margs\u001b[49m\u001b[43m,\u001b[49m\u001b[43m \u001b[49m\u001b[38;5;241;43m*\u001b[39;49m\u001b[38;5;241;43m*\u001b[39;49m\u001b[43mkwargs\u001b[49m\u001b[43m)\u001b[49m\n\u001b[1;32m   1522\u001b[0m \u001b[38;5;28;01mtry\u001b[39;00m:\n\u001b[1;32m   1523\u001b[0m     result \u001b[38;5;241m=\u001b[39m \u001b[38;5;28;01mNone\u001b[39;00m\n",
            "File \u001b[0;32m/opt/homebrew/Caskroom/miniforge/base/envs/DeepLearning/lib/python3.12/site-packages/torch/nn/modules/container.py:217\u001b[0m, in \u001b[0;36mSequential.forward\u001b[0;34m(self, input)\u001b[0m\n\u001b[1;32m    215\u001b[0m \u001b[38;5;28;01mdef\u001b[39;00m \u001b[38;5;21mforward\u001b[39m(\u001b[38;5;28mself\u001b[39m, \u001b[38;5;28minput\u001b[39m):\n\u001b[1;32m    216\u001b[0m     \u001b[38;5;28;01mfor\u001b[39;00m module \u001b[38;5;129;01min\u001b[39;00m \u001b[38;5;28mself\u001b[39m:\n\u001b[0;32m--> 217\u001b[0m         \u001b[38;5;28minput\u001b[39m \u001b[38;5;241m=\u001b[39m \u001b[43mmodule\u001b[49m\u001b[43m(\u001b[49m\u001b[38;5;28;43minput\u001b[39;49m\u001b[43m)\u001b[49m\n\u001b[1;32m    218\u001b[0m     \u001b[38;5;28;01mreturn\u001b[39;00m \u001b[38;5;28minput\u001b[39m\n",
            "File \u001b[0;32m/opt/homebrew/Caskroom/miniforge/base/envs/DeepLearning/lib/python3.12/site-packages/torch/nn/modules/module.py:1511\u001b[0m, in \u001b[0;36mModule._wrapped_call_impl\u001b[0;34m(self, *args, **kwargs)\u001b[0m\n\u001b[1;32m   1509\u001b[0m     \u001b[38;5;28;01mreturn\u001b[39;00m \u001b[38;5;28mself\u001b[39m\u001b[38;5;241m.\u001b[39m_compiled_call_impl(\u001b[38;5;241m*\u001b[39margs, \u001b[38;5;241m*\u001b[39m\u001b[38;5;241m*\u001b[39mkwargs)  \u001b[38;5;66;03m# type: ignore[misc]\u001b[39;00m\n\u001b[1;32m   1510\u001b[0m \u001b[38;5;28;01melse\u001b[39;00m:\n\u001b[0;32m-> 1511\u001b[0m     \u001b[38;5;28;01mreturn\u001b[39;00m \u001b[38;5;28;43mself\u001b[39;49m\u001b[38;5;241;43m.\u001b[39;49m\u001b[43m_call_impl\u001b[49m\u001b[43m(\u001b[49m\u001b[38;5;241;43m*\u001b[39;49m\u001b[43margs\u001b[49m\u001b[43m,\u001b[49m\u001b[43m \u001b[49m\u001b[38;5;241;43m*\u001b[39;49m\u001b[38;5;241;43m*\u001b[39;49m\u001b[43mkwargs\u001b[49m\u001b[43m)\u001b[49m\n",
            "File \u001b[0;32m/opt/homebrew/Caskroom/miniforge/base/envs/DeepLearning/lib/python3.12/site-packages/torch/nn/modules/module.py:1520\u001b[0m, in \u001b[0;36mModule._call_impl\u001b[0;34m(self, *args, **kwargs)\u001b[0m\n\u001b[1;32m   1515\u001b[0m \u001b[38;5;66;03m# If we don't have any hooks, we want to skip the rest of the logic in\u001b[39;00m\n\u001b[1;32m   1516\u001b[0m \u001b[38;5;66;03m# this function, and just call forward.\u001b[39;00m\n\u001b[1;32m   1517\u001b[0m \u001b[38;5;28;01mif\u001b[39;00m \u001b[38;5;129;01mnot\u001b[39;00m (\u001b[38;5;28mself\u001b[39m\u001b[38;5;241m.\u001b[39m_backward_hooks \u001b[38;5;129;01mor\u001b[39;00m \u001b[38;5;28mself\u001b[39m\u001b[38;5;241m.\u001b[39m_backward_pre_hooks \u001b[38;5;129;01mor\u001b[39;00m \u001b[38;5;28mself\u001b[39m\u001b[38;5;241m.\u001b[39m_forward_hooks \u001b[38;5;129;01mor\u001b[39;00m \u001b[38;5;28mself\u001b[39m\u001b[38;5;241m.\u001b[39m_forward_pre_hooks\n\u001b[1;32m   1518\u001b[0m         \u001b[38;5;129;01mor\u001b[39;00m _global_backward_pre_hooks \u001b[38;5;129;01mor\u001b[39;00m _global_backward_hooks\n\u001b[1;32m   1519\u001b[0m         \u001b[38;5;129;01mor\u001b[39;00m _global_forward_hooks \u001b[38;5;129;01mor\u001b[39;00m _global_forward_pre_hooks):\n\u001b[0;32m-> 1520\u001b[0m     \u001b[38;5;28;01mreturn\u001b[39;00m \u001b[43mforward_call\u001b[49m\u001b[43m(\u001b[49m\u001b[38;5;241;43m*\u001b[39;49m\u001b[43margs\u001b[49m\u001b[43m,\u001b[49m\u001b[43m \u001b[49m\u001b[38;5;241;43m*\u001b[39;49m\u001b[38;5;241;43m*\u001b[39;49m\u001b[43mkwargs\u001b[49m\u001b[43m)\u001b[49m\n\u001b[1;32m   1522\u001b[0m \u001b[38;5;28;01mtry\u001b[39;00m:\n\u001b[1;32m   1523\u001b[0m     result \u001b[38;5;241m=\u001b[39m \u001b[38;5;28;01mNone\u001b[39;00m\n",
            "File \u001b[0;32m/opt/homebrew/Caskroom/miniforge/base/envs/DeepLearning/lib/python3.12/site-packages/torch/nn/modules/linear.py:116\u001b[0m, in \u001b[0;36mLinear.forward\u001b[0;34m(self, input)\u001b[0m\n\u001b[1;32m    115\u001b[0m \u001b[38;5;28;01mdef\u001b[39;00m \u001b[38;5;21mforward\u001b[39m(\u001b[38;5;28mself\u001b[39m, \u001b[38;5;28minput\u001b[39m: Tensor) \u001b[38;5;241m-\u001b[39m\u001b[38;5;241m>\u001b[39m Tensor:\n\u001b[0;32m--> 116\u001b[0m     \u001b[38;5;28;01mreturn\u001b[39;00m \u001b[43mF\u001b[49m\u001b[38;5;241;43m.\u001b[39;49m\u001b[43mlinear\u001b[49m\u001b[43m(\u001b[49m\u001b[38;5;28;43minput\u001b[39;49m\u001b[43m,\u001b[49m\u001b[43m \u001b[49m\u001b[38;5;28;43mself\u001b[39;49m\u001b[38;5;241;43m.\u001b[39;49m\u001b[43mweight\u001b[49m\u001b[43m,\u001b[49m\u001b[43m \u001b[49m\u001b[38;5;28;43mself\u001b[39;49m\u001b[38;5;241;43m.\u001b[39;49m\u001b[43mbias\u001b[49m\u001b[43m)\u001b[49m\n",
            "\u001b[0;31mKeyboardInterrupt\u001b[0m: "
          ]
        }
      ],
      "source": [
        "def train_model(net, epochs, train_dataloader, criterion, optimizer, val_dataloader=None):\n",
        "    for epoch in range(epochs):  # loop over the dataset multiple times\n",
        "\n",
        "        running_loss = 0.0\n",
        "        for i, data in enumerate(train_dataloader, 0):\n",
        "            # get the inputs; data is a list of [inputs, labels]\n",
        "            inputs, labels = data\n",
        "            labels = labels.reshape(-1)\n",
        "\n",
        "            # zero the parameter gradients\n",
        "            optimizer.zero_grad()\n",
        "\n",
        "            # forward + backward + optimize\n",
        "            outputs = net(inputs)\n",
        "\n",
        "            loss = criterion(outputs, labels)\n",
        "            loss.backward()\n",
        "            optimizer.step()\n",
        "\n",
        "            # print statistics\n",
        "            running_loss += loss.item()\n",
        "            if i % 2 == 0:    # print every 2000 mini-batches\n",
        "                print(f'[{epoch + 1}, {i + 1:5d}] loss: {running_loss / 2:.3f}')\n",
        "                running_loss = 0.0\n",
        "\n",
        "    print('Finished Training')\n",
        "train_model(net, 10, train_dataloader, criterion, optimizer)"
      ]
    },
    {
      "cell_type": "code",
      "execution_count": null,
      "metadata": {},
      "outputs": [
        {
          "ename": "ValueError",
          "evalue": "y contains previously unseen labels: 1",
          "output_type": "error",
          "traceback": [
            "\u001b[0;31m---------------------------------------------------------------------------\u001b[0m",
            "\u001b[0;31mKeyError\u001b[0m                                  Traceback (most recent call last)",
            "File \u001b[0;32m/opt/homebrew/Caskroom/miniforge/base/envs/DeepLearning/lib/python3.12/site-packages/sklearn/utils/_encode.py:225\u001b[0m, in \u001b[0;36m_encode\u001b[0;34m(values, uniques, check_unknown)\u001b[0m\n\u001b[1;32m    224\u001b[0m \u001b[38;5;28;01mtry\u001b[39;00m:\n\u001b[0;32m--> 225\u001b[0m     \u001b[38;5;28;01mreturn\u001b[39;00m \u001b[43m_map_to_integer\u001b[49m\u001b[43m(\u001b[49m\u001b[43mvalues\u001b[49m\u001b[43m,\u001b[49m\u001b[43m \u001b[49m\u001b[43muniques\u001b[49m\u001b[43m)\u001b[49m\n\u001b[1;32m    226\u001b[0m \u001b[38;5;28;01mexcept\u001b[39;00m \u001b[38;5;167;01mKeyError\u001b[39;00m \u001b[38;5;28;01mas\u001b[39;00m e:\n",
            "File \u001b[0;32m/opt/homebrew/Caskroom/miniforge/base/envs/DeepLearning/lib/python3.12/site-packages/sklearn/utils/_encode.py:165\u001b[0m, in \u001b[0;36m_map_to_integer\u001b[0;34m(values, uniques)\u001b[0m\n\u001b[1;32m    164\u001b[0m table \u001b[38;5;241m=\u001b[39m _nandict({val: i \u001b[38;5;28;01mfor\u001b[39;00m i, val \u001b[38;5;129;01min\u001b[39;00m \u001b[38;5;28menumerate\u001b[39m(uniques)})\n\u001b[0;32m--> 165\u001b[0m \u001b[38;5;28;01mreturn\u001b[39;00m np\u001b[38;5;241m.\u001b[39marray([\u001b[43mtable\u001b[49m\u001b[43m[\u001b[49m\u001b[43mv\u001b[49m\u001b[43m]\u001b[49m \u001b[38;5;28;01mfor\u001b[39;00m v \u001b[38;5;129;01min\u001b[39;00m values])\n",
            "File \u001b[0;32m/opt/homebrew/Caskroom/miniforge/base/envs/DeepLearning/lib/python3.12/site-packages/sklearn/utils/_encode.py:159\u001b[0m, in \u001b[0;36m_nandict.__missing__\u001b[0;34m(self, key)\u001b[0m\n\u001b[1;32m    158\u001b[0m     \u001b[38;5;28;01mreturn\u001b[39;00m \u001b[38;5;28mself\u001b[39m\u001b[38;5;241m.\u001b[39mnan_value\n\u001b[0;32m--> 159\u001b[0m \u001b[38;5;28;01mraise\u001b[39;00m \u001b[38;5;167;01mKeyError\u001b[39;00m(key)\n",
            "\u001b[0;31mKeyError\u001b[0m: 1",
            "\nDuring handling of the above exception, another exception occurred:\n",
            "\u001b[0;31mValueError\u001b[0m                                Traceback (most recent call last)",
            "Cell \u001b[0;32mIn[185], line 7\u001b[0m\n\u001b[1;32m      5\u001b[0m y_hat \u001b[38;5;241m=\u001b[39m net(X_test)\n\u001b[1;32m      6\u001b[0m y_hat \u001b[38;5;241m=\u001b[39m torch\u001b[38;5;241m.\u001b[39margmax(y_hat, dim\u001b[38;5;241m=\u001b[39m\u001b[38;5;241m1\u001b[39m)\n\u001b[0;32m----> 7\u001b[0m y_test \u001b[38;5;241m=\u001b[39m \u001b[43mlabel_encoder\u001b[49m\u001b[38;5;241;43m.\u001b[39;49m\u001b[43mtransform\u001b[49m\u001b[43m(\u001b[49m\u001b[43my_test\u001b[49m\u001b[43m)\u001b[49m\n\u001b[1;32m      8\u001b[0m \u001b[38;5;28mprint\u001b[39m(accuracy_score(y_test, y_hat))\n",
            "File \u001b[0;32m/opt/homebrew/Caskroom/miniforge/base/envs/DeepLearning/lib/python3.12/site-packages/sklearn/preprocessing/_label.py:137\u001b[0m, in \u001b[0;36mLabelEncoder.transform\u001b[0;34m(self, y)\u001b[0m\n\u001b[1;32m    134\u001b[0m \u001b[38;5;28;01mif\u001b[39;00m _num_samples(y) \u001b[38;5;241m==\u001b[39m \u001b[38;5;241m0\u001b[39m:\n\u001b[1;32m    135\u001b[0m     \u001b[38;5;28;01mreturn\u001b[39;00m np\u001b[38;5;241m.\u001b[39marray([])\n\u001b[0;32m--> 137\u001b[0m \u001b[38;5;28;01mreturn\u001b[39;00m \u001b[43m_encode\u001b[49m\u001b[43m(\u001b[49m\u001b[43my\u001b[49m\u001b[43m,\u001b[49m\u001b[43m \u001b[49m\u001b[43muniques\u001b[49m\u001b[38;5;241;43m=\u001b[39;49m\u001b[38;5;28;43mself\u001b[39;49m\u001b[38;5;241;43m.\u001b[39;49m\u001b[43mclasses_\u001b[49m\u001b[43m)\u001b[49m\n",
            "File \u001b[0;32m/opt/homebrew/Caskroom/miniforge/base/envs/DeepLearning/lib/python3.12/site-packages/sklearn/utils/_encode.py:227\u001b[0m, in \u001b[0;36m_encode\u001b[0;34m(values, uniques, check_unknown)\u001b[0m\n\u001b[1;32m    225\u001b[0m         \u001b[38;5;28;01mreturn\u001b[39;00m _map_to_integer(values, uniques)\n\u001b[1;32m    226\u001b[0m     \u001b[38;5;28;01mexcept\u001b[39;00m \u001b[38;5;167;01mKeyError\u001b[39;00m \u001b[38;5;28;01mas\u001b[39;00m e:\n\u001b[0;32m--> 227\u001b[0m         \u001b[38;5;28;01mraise\u001b[39;00m \u001b[38;5;167;01mValueError\u001b[39;00m(\u001b[38;5;124mf\u001b[39m\u001b[38;5;124m\"\u001b[39m\u001b[38;5;124my contains previously unseen labels: \u001b[39m\u001b[38;5;132;01m{\u001b[39;00m\u001b[38;5;28mstr\u001b[39m(e)\u001b[38;5;132;01m}\u001b[39;00m\u001b[38;5;124m\"\u001b[39m)\n\u001b[1;32m    228\u001b[0m \u001b[38;5;28;01melse\u001b[39;00m:\n\u001b[1;32m    229\u001b[0m     \u001b[38;5;28;01mif\u001b[39;00m check_unknown:\n",
            "\u001b[0;31mValueError\u001b[0m: y contains previously unseen labels: 1"
          ]
        }
      ],
      "source": [
        "from sklearn.metrics import accuracy_score, classification_report, confusion_matrix\n",
        "\n",
        "with torch.no_grad():\n",
        "    net.eval()\n",
        "    y_hat = net(X_test)\n",
        "    y_hat = torch.argmax(y_hat, dim=1)\n",
        "    y_test = label_encoder.transform(y_test)\n",
        "    print(accuracy_score(y_test, y_hat))\n",
        "\n"
      ]
    },
    {
      "cell_type": "code",
      "execution_count": null,
      "metadata": {},
      "outputs": [
        {
          "data": {
            "text/plain": [
              "array([1, 1, 1, 1, 1, 1, 1, 1, 1, 1, 1, 1, 1, 1, 1, 1, 1, 1, 1, 1, 1, 1,\n",
              "       1, 1, 1, 1, 1, 1, 1, 1, 1, 1, 1, 1, 1, 1, 1, 1, 1, 1, 1, 1, 1, 1,\n",
              "       1, 1, 1, 1, 1, 1, 1, 1, 1, 1, 1, 1, 1, 1, 1, 1, 1, 1, 1, 1, 1, 1,\n",
              "       1, 1, 1, 1, 1, 1, 1, 1, 1, 1, 1, 1, 1, 1, 1, 1, 1, 1, 1, 1, 1, 1,\n",
              "       1, 1, 1, 1, 1, 1, 1, 1, 1, 1, 1, 1, 1, 1, 1, 1, 1, 1, 1, 1, 1, 1,\n",
              "       1, 1, 1, 1, 1, 1, 1, 1, 1, 1, 1, 1, 1, 1, 1, 1, 1, 1, 1, 1, 1, 1,\n",
              "       1, 1, 1, 1, 1, 1, 1, 1, 1, 1, 1, 1, 1, 1, 1, 1, 1, 1, 1, 1, 1, 1,\n",
              "       1, 1, 1, 1, 1, 1, 1, 1, 1, 1, 1, 1, 1, 1, 1, 1, 1, 1, 1, 1, 1, 1,\n",
              "       1, 1, 1, 1, 1, 1, 1, 1, 1, 1, 1, 1, 1, 1, 1, 1, 1, 1, 1, 1, 1, 1,\n",
              "       1, 1])"
            ]
          },
          "execution_count": 189,
          "metadata": {},
          "output_type": "execute_result"
        }
      ],
      "source": [
        "y_hat.numpy()"
      ]
    },
    {
      "cell_type": "code",
      "execution_count": null,
      "metadata": {},
      "outputs": [],
      "source": []
    }
  ],
  "metadata": {
    "colab": {
      "provenance": []
    },
    "kernelspec": {
      "display_name": "Python 3",
      "name": "python3"
    },
    "language_info": {
      "codemirror_mode": {
        "name": "ipython",
        "version": 3
      },
      "file_extension": ".py",
      "mimetype": "text/x-python",
      "name": "python",
      "nbconvert_exporter": "python",
      "pygments_lexer": "ipython3",
      "version": "3.12.2"
    }
  },
  "nbformat": 4,
  "nbformat_minor": 0
}
